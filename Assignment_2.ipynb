{
 "cells": [
  {
   "cell_type": "markdown",
   "metadata": {},
   "source": [
    "<img src=\"./images/GTU_LOGO_1200X768_JPG_EN_Small.jpg\" style=\"width:5%\"></img>\n",
    "\n",
    "\n",
    "<div style='background-image: \"intro_pic.png\" ; padding: 0px ; background-size: cover ; border-radius: 5px ; height: 250px'>\n",
    "    <div style=\"float: center ; margin: 50px ; padding: 30px ; background: rgba(255 , 255 , 255 , 0.7) ; width: 50% ; height: 150px\">\n",
    "        <div style=\"position: left ; top: 50% ; transform: translatey(-50%)\">\n",
    "            <div style=\"font-size: x-large ; font-weight: 600 ; color: rgba(0 , 0 ,10 , 0.6) ; line-height: 70%\">Department of Civil Engineering</div>\n",
    "            <div style=\"font-size: xx-large ; font-weight: 900 ; color: rgba(200 , 0 , 0 , 0.8) ; line-height: 200%\">EQE 582_ Introduction to SEISMOLOGY</div>\n",
    "            <div style=\"font-size: large ; padding-top: 10px ; color: rgba(0 , 0 , 0 , 0.7); line-height: 100%\">Python applications for Seismology</div>\n",
    "        </div>\n",
    "         <div style=\"font-size: xx-large ; font-weight: 1000 ; color: rgba(0 , 128, 128 , 0.9) ; line-height: 300%\">Earthquake Statistics Assignment #2 </div>\n",
    "    </div>\n",
    "</div>\n",
    "\n",
    "---"
   ]
  },
  {
   "cell_type": "markdown",
   "metadata": {},
   "source": [
    "### Due date : Dec 23, 2020 Wednesday 23:59 \n",
    "\n",
    "Visit [AFAD Event Search Browser](https://tadas.afad.gov.tr/list-event) or [BDTIM Event Search Browser](http://www.koeri.boun.edu.tr/sismo/zeqdb/) web page, select **_one of the regions listed below_** as a research area and search for the earthquakes occured in that region. You are free to select magnitude and time range,as long as you reach **_>2000_** earthquakes in your event list. Download the list of earthquakes as any format you are familiar.   \n",
    "\n",
    "By using this dataset, calculate Gutenberg-Richter relationship, a quantitative way of earthquake occurance frequency. \n",
    "\n",
    "![](./images/formula.png)\n",
    "\n",
    "\n",
    "\n",
    "M: Earthquake magnitude (use same agnitude type for each event)\n",
    "N: Cumulative Number of earthquakes (use M ≥ 0)\n",
    "b: Slope of the linear fit\n",
    "a: Measure of seismic activity (y-intercept)\n",
    "\n",
    "\n",
    "\n",
    "Calculate the number of events in your list in 0.1 magnitude intervals (use Ml magnitude,or select same type of magnitude for each event), accumulate numbers **_N_**. Display as a table. Be sure you have _a complete catalog_ with all magnitudes in specified initials.\n",
    "\n",
    "1 - Draw **_Magnitude vs logN_** graph and determine **_b-value_**, and also **_a_** value\n",
    "\n",
    "2 - Calculate the recurrence period (Tr) of an earthquake with 10% exceedance probability in 50 years for your research area.\n",
    "\n",
    "3 - Calculate Seismic Risk (R(M)) for an M=5.0 earthquake would occur in 20 years in your research area. **_An explain what you got briefly._**\n",
    "\n",
    "Here is the list of research areas;\n",
    "\n",
    "* _Kahramanmaraş_ \n",
    "* _Malatya_\n",
    "* _Elazığ_\n",
    "* _Simav_ \n",
    "* _Gökova_\n",
    "* _Saros_\n",
    "* _İzmir_\n",
    "* _Erzurum_\n",
    "* _Van_\n",
    "* _Hatay_\n",
    "\n",
    "---\n",
    "\n",
    "*PS1 : Do not forget to upload your assignments as \".ipynb\" files to Ders Kutusu.\n",
    "\n",
    "*PS2 : Filter explotions from your event catalog.\n",
    "\n",
    "<img src=\"./images/derskutusu.png\" style=\"width:20%\"></img>\n"
   ]
  },
  {
   "cell_type": "markdown",
   "metadata": {},
   "source": [
    "---\n",
    "### _Clue - You can use ObsPy to request data from web services._"
   ]
  },
  {
   "cell_type": "code",
   "execution_count": 68,
   "metadata": {},
   "outputs": [
    {
     "name": "stdout",
     "output_type": "stream",
     "text": [
      "found 3 event(s):\n",
      "3 Event(s) in Catalog:\n",
      "2012-04-04T14:21:42.300000Z | +41.818,  +79.689 | 4.4 mb | manual\n",
      "2012-04-04T14:18:37.000000Z | +39.342,  +41.044 | 4.3 ML | manual\n",
      "2012-04-04T14:08:46.000000Z | +38.017,  +37.736 | 3.0 ML | manual\n",
      "3 Event(s) in Catalog:\n",
      "2012-04-04T14:21:42.300000Z | +41.818,  +79.689 | 4.4 mb | manual\n",
      "2012-04-04T14:18:37.000000Z | +39.342,  +41.044 | 4.3 ML | manual\n",
      "2012-04-04T14:08:46.000000Z | +38.017,  +37.736 | 3.0 ML | manual\n",
      "3 Event(s) in Catalog:\n",
      "2012-04-04T14:21:42.300000Z | +41.818,  +79.689 | 4.4 mb | manual\n",
      "2012-04-04T14:18:37.000000Z | +39.342,  +41.044 | 4.3 ML | manual\n",
      "2012-04-04T14:08:46.000000Z | +38.017,  +37.736 | 3.0 ML | manual\n"
     ]
    }
   ],
   "source": [
    "import obspy\n",
    "import obspy.clients\n",
    "\n",
    "client = obspy.clients\n",
    "\n",
    "events = obspy.read_events(min_latitude=46.1, max_latitude=46.3,\n",
    "        min_longitude=7.6, max_longitude=7.8,\n",
    "        min_datetime=\"2012-04-03\", max_datetime=\"2012-04-04\")\n",
    "\n",
    "print (\"found %s event(s):\" % len(events))\n",
    "for event in events:\n",
    "    print (events)\n",
    "    \n"
   ]
  },
  {
   "cell_type": "code",
   "execution_count": 69,
   "metadata": {},
   "outputs": [
    {
     "data": {
      "text/plain": [
       "11 Event(s) in Catalog:\n",
       "2003-02-05T10:14:39.700000Z | +38.035,  +37.711 | 3.3 MD\n",
       "2003-01-16T08:41:50.100000Z | +38.328,  +38.427 | 2.9 MD\n",
       "...\n",
       "2002-01-19T19:33:28.100000Z | +38.034,  +37.754 | 3.4 MD\n",
       "2002-01-16T23:46:01.800000Z | +37.906,  +37.481 | 3.0 MD\n",
       "To see all events call 'print(CatalogObject.__str__(print_all=True))'"
      ]
     },
     "execution_count": 69,
     "metadata": {},
     "output_type": "execute_result"
    }
   ],
   "source": [
    "from obspy.clients.fdsn import Client\n",
    "import numpy as np\n",
    "from obspy.core import UTCDateTime, read, Stream\n",
    "\n",
    "# specify webservice\n",
    "client = Client(\"IRIS\")\n",
    "\n",
    "# get event metadata of events within radius=0.5 degrees of stations\n",
    "starttime = UTCDateTime(\"2002-01-01\")\n",
    "endtime = UTCDateTime(\"2003-03-01\")\n",
    "event_radius = 0.5 # degrees\n",
    "lat = 38.2\n",
    "lon = 37.9\n",
    "\n",
    "events = client.get_events(starttime=starttime, endtime=endtime, latitude=lat, longitude=lon, maxradius=event_radius) # produces a Catalog object\n",
    "n_events = events.count() # number of events found\n",
    "\n",
    "events"
   ]
  },
  {
   "cell_type": "code",
   "execution_count": null,
   "metadata": {},
   "outputs": [],
   "source": []
  }
 ],
 "metadata": {
  "kernelspec": {
   "display_name": "Python 3",
   "language": "python",
   "name": "python3"
  },
  "language_info": {
   "codemirror_mode": {
    "name": "ipython",
    "version": 3
   },
   "file_extension": ".py",
   "mimetype": "text/x-python",
   "name": "python",
   "nbconvert_exporter": "python",
   "pygments_lexer": "ipython3",
   "version": "3.8.6"
  }
 },
 "nbformat": 4,
 "nbformat_minor": 4
}
