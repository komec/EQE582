{
 "cells": [
  {
   "cell_type": "markdown",
   "metadata": {},
   "source": [
    "<p align=\"left\">  <img src=\"./images/GTU_LOGO_1200X768_JPG_EN_Small.jpg\" width = 20% > </p>\n",
    "\n",
    "<div style='background-image: \"intro_pic.png\" ; padding: 0px ; background-size: cover ; border-radius: 5px ; height: 300px'>\n",
    "    <div style=\"float: center ; margin: 50px ; padding: 30px ; background: rgba(255 , 255 , 255 , 0.7) ; width: 50% ; height: 150px\">\n",
    "        <div style=\"position: left ; top: 50% ; transform: translatey(-50%)\">\n",
    "            <div style=\"font-size: x-large ; font-weight: 600 ; color: rgba(0 , 0 ,10 , 0.6) ; line-height: 70%\">Department of Civil Engineering</div>\n",
    "            <div style=\"font-size: xx-large ; font-weight: 900 ; color: rgba(200 , 0 , 0 , 0.8) ; line-height: 200%\">EQE 582_ Introduction to SEISMOLOGY</div>\n",
    "             <img src=\"images/gmt-logo.png\" style=\"width:60%\"><img>\n",
    "        </div>\n",
    "    </div>\n",
    "</div>\n",
    "\n"
   ]
  },
  {
   "cell_type": "markdown",
   "metadata": {},
   "source": [
    "The Generic Mapping Tools (GMT) are an used open-source collection of software tools for both Linux and Windows platforms. They are widely used in the Earth and Planetary sciences for processing and displaying datasets and also image processing operations with map projections. The project was started in 2017 by Leonardo Uieda and Paul Wessel (the co-creator and main developer of GMT) at the University of Hawaii at Manoa. [GMT](https://www.generic-mapping-tools.org/)\n",
    "\n",
    "_**pyGMT**_ is a Python interface for the GMT, which is different than other Python libraries such as Matplotlib and Bokeh. _**pyGMT**_ requires [GMT version >= 6.1.1](https://github.com/GenericMappingTools/gmt/releases/tag/6.1.1)\n",
    "\n",
    "Follow the instructions for [Installation & Dependencies](https://www.pygmt.org/latest/install.html)\n",
    "\n",
    "\n",
    "\n",
    "---"
   ]
  },
  {
   "cell_type": "code",
   "execution_count": null,
   "metadata": {},
   "outputs": [],
   "source": [
    "# install pyGMT\n",
    "!pip install pygmt\n",
    "\n",
    "import pygmt\n",
    "pygmt.show_versions()"
   ]
  },
  {
   "cell_type": "markdown",
   "metadata": {},
   "source": [
    "---\n",
    "# _Assignment #5_ **<font color=red> Generate your seismicity map</font>**\n"
   ]
  },
  {
   "cell_type": "markdown",
   "metadata": {},
   "source": [
    "Please make a map with earthquake locations with respect to magnitude, depth distribution with respect to NS-EW directions, legend, scale. You may also add Active fault zones, city names, station names and locations, beachballs and also topography. Make seismicity map for the region that you already studied in previous assignments. \n",
    "\n",
    "---\n",
    "\n",
    "PS: Different types of maps for Simav,Kutahya region are given below as an example _(Komec Mutlu,A.,2020)_.\n",
    "\n",
    "<img src=\"images/1.jpg\" style=\"width:20%\"><img>\n",
    "\n",
    "Figure : Active major fault zones and topography map of the study area. SFZ, Simav Fault Zone; NFZ, Naşa Fault Zone; EGFZ, Emet-Gediz Fault Zone. Blue star symbols show, epicenter location of moderate earthquakes. (Emre et al, 2013).\n",
    "\n",
    "---\n",
    "\n",
    "<img src=\"images/6.jpg\" style=\"width:20%\"><img>\n",
    "\n",
    "Figure : Map shows the raw locations of events before revision (gray) and double-difference (blue) re-located events of the revised catalog. The P wave velocity model (this study) depicted at the right-bottom corner (depths in km, velocity in km/sec). The NS and EW cross sections show the depth distribution of the seismicity. Red star represents the mainshock. Black lines refer to the active faults (Emre et al. 2013). Earthquakes with magnitudes greater than 0.7 are shown.\n",
    "\n",
    "---\n",
    "\n",
    "<img src=\"images/5.jpg\" style=\"width:20%\"><img>\n",
    "\n",
    "Figure : Seismic stations distribution operated by different networks. RETMC: Kandilli Observatory and Earthquake Research Institute Regional Earthquake-Tsunami Monitoring Center (21 stations), ERD: Prime Ministry Disaster and Emergency Management Presidency, Department of Earthquake (24 stations), MRC: Tübitak Marmara Research Center (38 stations), COMU: Çanakkale Onsekiz Mart University Geophysics Department (2 stations). Study area is framed as orange.\n",
    "\n",
    "---\n",
    "\n",
    "<img src=\"images/mech-harward.jpg\" style=\"width:20%\"><img>\n",
    "\n",
    "Figure : The focal mechanism solutions for earthquakes with magnitude greater than 3.5. Beachball symbols numbered for each MT solution up to 54. The number 8 (red colored beachball) represents the May 19, 2011 Simav mainshock solution. The dimension of circles represents magnitude of events. Black lines represent active faults in the study area (Emre et al. 2013)\n",
    "\n",
    "---"
   ]
  },
  {
   "cell_type": "markdown",
   "metadata": {},
   "source": [
    "---"
   ]
  }
 ],
 "metadata": {
  "kernelspec": {
   "display_name": "Python 3",
   "language": "python",
   "name": "python3"
  },
  "language_info": {
   "codemirror_mode": {
    "name": "ipython",
    "version": 3
   },
   "file_extension": ".py",
   "mimetype": "text/x-python",
   "name": "python",
   "nbconvert_exporter": "python",
   "pygments_lexer": "ipython3",
   "version": "3.8.6"
  }
 },
 "nbformat": 4,
 "nbformat_minor": 4
}
