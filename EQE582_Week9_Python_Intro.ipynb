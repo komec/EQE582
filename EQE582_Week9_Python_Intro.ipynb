{
 "cells": [
  {
   "cell_type": "markdown",
   "metadata": {},
   "source": [
    "<p align=\"left\">  <img src=\"./images/GTU_LOGO_1200X768_JPG_EN_Small.jpg\" width = 20% > </p>\n",
    "\n",
    "<div style='background-image: \"intro_pic.png\" ; padding: 0px ; background-size: cover ; border-radius: 5px ; height: 500px'>\n",
    "    <div style=\"float: center ; margin: 50px ; padding: 30px ; background: rgba(255 , 255 , 255 , 0.7) ; width: 50% ; height: 150px\">\n",
    "        <div style=\"position: left ; top: 50% ; transform: translatey(-50%)\">\n",
    "            <div style=\"font-size: x-large ; font-weight: 600 ; color: rgba(0 , 0 ,10 , 0.6) ; line-height: 70%\">Department of Civil Engineering</div>\n",
    "            <div style=\"font-size: xx-large ; font-weight: 900 ; color: rgba(200 , 0 , 0 , 0.8) ; line-height: 200%\">EQE 582_ Introduction to SEISMOLOGY</div>\n",
    "            <div style=\"font-size: large ; padding-top: 10px ; color: rgba(0 , 0 , 0 , 0.7); line-height: 80%\">Python applications for Seismology</div>\n",
    "            <img src=\"images/intro_pic.png\" style=\"width:60%\"><img>\n",
    "        </div>\n",
    "    </div>\n",
    "</div>\n",
    "\n",
    "This notebook is a quick introduction to Python and it meant to serve as an application tutorials with python tools for Seismology for Earhquake and Structure Engineering program graduate students.\n",
    "\n",
    "\n",
    "---\n",
    "\n",
    "##### Here is a quick reference on how to use Jupyter notebook\n",
    "<img src=\"images/notebook_toolbar.png\" style=\"width:40%\"></img>\n",
    "\n",
    "* `Shift + Enter`: Execute cell and jump to the next cell\n",
    "* `Ctrl/Cmd + Enter`: Execute cell and don't jump to the next cell\n",
    "\n",
    "---\n",
    "\n",
    "### Useful Links for Python \n",
    "\n",
    "[Python documenation](http://docs.python.org/) --> _Official Python Documentation_\n",
    "\n",
    "### Python tutorials and books are available online\n",
    "\n",
    "* [Dive Into Python](http://www.diveintopython.net/)\n",
    "* [The Official Python Tutorial](http://docs.python.org/2/tutorial/index.html)\n",
    "* [Think Python Book](http://www.greenteapress.com/thinkpython/thinkpython.html)\n",
    "\n",
    "### Useful scientific Python modules\n",
    "\n",
    "* [NumPy Tutorial](http://wiki.scipy.org/Tentative_NumPy_Tutorial)\n",
    "* [Python Scientific Lecture Notes](http://scipy-lectures.github.io/): Introduces the basics of scientific Python with lots of examples.\n",
    "* [Python for Signal Processing](http://python-for-signal-processing.blogspot.de/): Free blog which is the basis of a proper book written on the subject.\n",
    "\n",
    "### Useful visualization tools\n",
    "\n",
    "* [Matplotlib Gallery](http://matplotlib.org/gallery.html)\n",
    "* [ObsPy Gallery](http://docs.obspy.org/gallery.html)\n",
    "* [Basemap Gallery](http://matplotlib.org/basemap/users/examples.html)\n",
    "* [PyGMT Gallery](https://www.pygmt.org/latest/gallery/index.html)\n",
    "\n",
    "### Useful seismology software in python\n",
    "\n",
    "* [ObsPy Framework](https://docs.obspy.org/)\n",
    "* [Pyrocko Framework](https://pyrocko.org/)\n",
    "\n",
    "---\n",
    "\n",
    "## Quick Introduction to the Core Python Language\n",
    "\n",
    "The aim of this chapter to give you basics of Python coding. So, in order to deeply learn aboout programming in Python, please change things written in cells by your own. It you would like to slow it down then visit the **_CE103 lecture notes_**;\n",
    "\n",
    "* [py4civil](https://github.com/komec/py4civil)\n",
    "\n",
    "\n"
   ]
  },
  {
   "cell_type": "markdown",
   "metadata": {},
   "source": [
    "### **1. Data Types**\n",
    "\n",
    "Definition of the data type classifies and categorize data items. Its a way to understand which kind of value determines what operatoins can be performed. Different types of variable can do different things.\n",
    "\n",
    "        - int    (integers) (ex: 5,98,28829382983) \n",
    "        - float  (real numbers) (ex: 3.7)\n",
    "        - bool   (boolean values) (True or False)\n",
    "        - NoneType (special) (None; has one value)\n",
    "\n",
    "You can check the type of your ariable by clling \"type\" command. Python allows you to convert your data from one type to another. "
   ]
  },
  {
   "cell_type": "markdown",
   "metadata": {},
   "source": [
    "### **2. Numbers**\n",
    "\n",
    "Integers, floating point numbers and complex numbers are defined as int, float and complex class in Python."
   ]
  },
  {
   "cell_type": "code",
   "execution_count": null,
   "metadata": {},
   "outputs": [],
   "source": [
    "# Three basic types of numbers\n",
    "\n",
    "# Integers; positive or negative numbers which are written without decimals.\n",
    "(5 + 2) * 3 / 4\n",
    "\n",
    "# Floating Point Numbers; rational numbers with fractional parts.\n",
    "3.98e32 * 222\n",
    "\n",
    "# Complex Numbers; Numbers with sum of real and imaginery parts. Use j instead of i which equals square root of -1\n",
    "(3 + 2j) * (4 - 2j)      "
   ]
  },
  {
   "cell_type": "code",
   "execution_count": null,
   "metadata": {},
   "outputs": [],
   "source": [
    "# Arithmetic operators are used to execute arithmetic operations \n",
    "# such as addition, subtraction, division, multiplication etc.\n",
    "\n",
    "a = 3\n",
    "b = 5 \n",
    "c = 7\n",
    "\n",
    "apple = a ** b\n",
    "orange = a / b * c + 3\n",
    "d = apple // orange\n",
    "\n",
    "apple, orange, d"
   ]
  },
  {
   "cell_type": "markdown",
   "metadata": {},
   "source": [
    "### **3. Strings**\n",
    "\n",
    "A string may consists letters, numbers, and other types of characters with spaces. A string is a sequence of characters."
   ]
  },
  {
   "cell_type": "code",
   "execution_count": null,
   "metadata": {},
   "outputs": [],
   "source": [
    "# Python can also manipulate \"strings\". They can be adressed in single quotes ('..') or in double quotes (\"  \").\n",
    "location = \"somewhere\"\n",
    "\n",
    "where_are_u = location + 'over the rainbow'\n",
    "\n",
    "# Method of indexing can be used to access the characters in a string. \n",
    "# Indexing could be think as pointing between characters. \n",
    "# Index starts from 0.\n",
    "\n",
    "str = where_are_u\n",
    "print('first character = ', str[0])    #first character\n",
    "print('last character = ', str[-1])        #last character\n",
    "print('slicing 4nd to 9th character = ', str[4:9])     #slicing 6nd to 9th character\n",
    "print('slicing 9th to 7nd last character = ', str[9:-7])  #slicing 25th to 37nd last "
   ]
  },
  {
   "cell_type": "markdown",
   "metadata": {},
   "source": [
    "### **4. Lists**\n",
    "\n",
    "Python offers a sequence of datatypes in order to group values. Lists are one of the most versatile and frequently used items. They created by comma-separated values (elements) between square brackets [ ] in any number and any different type such as integer, float, string etc."
   ]
  },
  {
   "cell_type": "code",
   "execution_count": null,
   "metadata": {},
   "outputs": [],
   "source": [
    "lst = [] # create empty list"
   ]
  },
  {
   "cell_type": "code",
   "execution_count": null,
   "metadata": {},
   "outputs": [],
   "source": [
    "lst = [1, 2, 3]# list of integers"
   ]
  },
  {
   "cell_type": "code",
   "execution_count": null,
   "metadata": {},
   "outputs": [],
   "source": [
    "lst = [3.14, \"pi\", (22/7)] # list of different datatypes"
   ]
  },
  {
   "cell_type": "code",
   "execution_count": null,
   "metadata": {},
   "outputs": [],
   "source": [
    "lst = [\"week\",[2,4,6],['tuesday']] # nested list"
   ]
  },
  {
   "cell_type": "markdown",
   "metadata": {},
   "source": [
    "### **5. Dictionaries**\n",
    "\n",
    "A dictionary is an unordered, changable and indexed collection of items, which are written by curly brackets {}. A dicionary is a composition of key:value pairs. Each key has to retrieve a specific value."
   ]
  },
  {
   "cell_type": "code",
   "execution_count": null,
   "metadata": {},
   "outputs": [],
   "source": [
    "# Create and print a dictionary:\n",
    "\n",
    "earthquake = {\n",
    "  \"location\": \"Elazig\",\n",
    "  \"magnitude\": \"6.8\",\n",
    "  \"year\": 2020,\n",
    "  \"month\":\"January\"  \n",
    "}\n",
    "print(earthquake)"
   ]
  },
  {
   "cell_type": "code",
   "execution_count": null,
   "metadata": {},
   "outputs": [],
   "source": [
    "# to access the items of the dictionary refer its key name.\n",
    "\n",
    "x = earthquake[\"location\"]\n",
    "#,or,\n",
    "x = earthquake.get(\"year\")"
   ]
  },
  {
   "cell_type": "code",
   "execution_count": null,
   "metadata": {},
   "outputs": [],
   "source": [
    "print(len(earthquake))   # gives number of the items in dictionary"
   ]
  },
  {
   "cell_type": "markdown",
   "metadata": {},
   "source": [
    "### **6. Functions**\n",
    "\n",
    "A function is a code block written to carry out a specified task, which similar with modules. Functions define in the code body, no need to import. They are generally not predefined modules. "
   ]
  },
  {
   "cell_type": "code",
   "execution_count": null,
   "metadata": {},
   "outputs": [],
   "source": [
    "def welcome(name):\n",
    "    print(\"Welcome \" + name + \" !\")\n",
    "    return"
   ]
  },
  {
   "cell_type": "code",
   "execution_count": null,
   "metadata": {},
   "outputs": [],
   "source": [
    "welcome(\"Home\")"
   ]
  },
  {
   "cell_type": "markdown",
   "metadata": {},
   "source": [
    "### **7. Conditionals & Loops**\n",
    "\n",
    "* The \" for \" loop\n",
    "\n",
    "Loops are another type of flow control structure in programming language. By using loop conditions, a code can be repeated multiple times under specific conditions.\n"
   ]
  },
  {
   "cell_type": "code",
   "execution_count": null,
   "metadata": {},
   "outputs": [],
   "source": [
    "# Find the summation of the numbers in a list\n",
    "\n",
    "sum = 0     # what if I dit not define it?? \n",
    "\n",
    "digit = [1, 2, 3, 4, 5, 6, 7, 8, 9, 10]   # create the list\n",
    "\n",
    "for i in digit:\n",
    "    sum = sum + i\n",
    "\n",
    "print(\"Sum = \", sum)"
   ]
  },
  {
   "cell_type": "markdown",
   "metadata": {},
   "source": [
    "* The **_\" if \"_** statement\n",
    "\n",
    "\" if \" statement is one of the most simple decision making statement. It is used to decide whether a certain statement is True or False.\n"
   ]
  },
  {
   "cell_type": "code",
   "execution_count": null,
   "metadata": {},
   "outputs": [],
   "source": [
    "# write your first \"if\" statement\n",
    "# The colon (:) is required to seprarate the condition from the body. The line after the colon is also required and it stands for four spaces for indenting.\n",
    "\n",
    "a = 5\n",
    "b = 15\n",
    "if b > a:\n",
    "    print( b, 'is bigger than', a)"
   ]
  },
  {
   "cell_type": "markdown",
   "metadata": {},
   "source": [
    "* The \" if else / elif \" statement\n",
    "\n",
    "\" if else\" statement is stands for a decision with two possible conclusion. If the statement is True follow 1st path, else follow the 2nd path. "
   ]
  },
  {
   "cell_type": "code",
   "execution_count": null,
   "metadata": {},
   "outputs": [],
   "source": [
    "A = 4\n",
    "B = 8\n",
    "\n",
    "if A > 7 and B > 7 :\n",
    "    print(\"Everything is awsome\")\n",
    "elif B > 7 or A < 5 :\n",
    "    print(\"CRASH !\")\n",
    "else:\n",
    "    print('Nothing to do')"
   ]
  },
  {
   "cell_type": "markdown",
   "metadata": {},
   "source": [
    "---\n",
    "# The Scientific Python Modules\n",
    "\n",
    "\n",
    "## Numpy\n",
    "\n",
    "NumPy (Numerical Python) is an open source Python library which is very useful general-purpose array-processing package and a core of the scientific and engineering computing ecosystem of Python. It includes multidimensional array object, broadcasting functions, linear algebra calculations, Fourier transform and more. The NumPy library also contains matrix data structures and can be used to perform mathematical operations on arrays. NumPy can allow a wide variety of datatypes speedly. \n",
    "\n",
    "If you have Python you can install NumPy as below;\n",
    "\n",
    "<font color=blue>conda install numpy<font>\n",
    "\n",
    ",or,\n",
    "\n",
    "<font color=blue>pip install numpy<font>\n",
    "\n"
   ]
  },
  {
   "cell_type": "code",
   "execution_count": null,
   "metadata": {},
   "outputs": [],
   "source": [
    "import numpy as np\n",
    "\n",
    "a = np.array([1,2,3])  # this is a rank = 1 array\n",
    "\n",
    "print(type(a))   # print type of the array\n",
    "print(a[1])      # indexing elements of array\n",
    "print(a.dtype)   # print type of elements in array\n",
    "print(a.shape)   # print shape of array\n",
    "print(a.ndim)    # print number of dimensions (axes)\n",
    "print(a.size)    # print size of the array"
   ]
  },
  {
   "cell_type": "markdown",
   "metadata": {},
   "source": [
    " * Arrays can be multidimensional, we should specify a slice for each dimension, just like in list operations. "
   ]
  },
  {
   "cell_type": "code",
   "execution_count": null,
   "metadata": {},
   "outputs": [],
   "source": [
    "a = np.array([[1,3,5],[2,4,6],[7,8,9]])\n",
    "print(a,'\\n')\n",
    "\n",
    "b = a[:2,0:2]  # pull out the subarray of first 2 raws and columns 0 to 1\n",
    "print(b,'\\n')\n"
   ]
  },
  {
   "cell_type": "code",
   "execution_count": null,
   "metadata": {},
   "outputs": [],
   "source": [
    "# we can use arithmetic operators to do element-wise operation on array;\n",
    "\n",
    "a = np.array([1, 2, 5, 3]) \n",
    "  \n",
    "print ( a+3)     # add a scalar to each element of array \n",
    "print (a-3)      # subtract a scalar from each element of array \n",
    "print (a*2)      # multiply each element by 2 \n",
    "print (a**2)     # calculate square of each element  \n",
    "\n",
    "# we can also multiply array by a scalar as below;\n",
    "a *= 2\n",
    "print (a) # modify existing array "
   ]
  },
  {
   "cell_type": "markdown",
   "metadata": {},
   "source": [
    "---\n",
    "## SciPy\n",
    "\n",
    "SciPy is built to work with NumPy arrays, mathematical algorithms, convenience functions and complex numerical computations. \n",
    "\n",
    "SciPy is built in top of Numpy, that is why it should be imported first. "
   ]
  },
  {
   "cell_type": "code",
   "execution_count": null,
   "metadata": {},
   "outputs": [],
   "source": [
    "# lets import SciPy\n",
    "\n",
    "import numpy as np                                     \n",
    "import scipy"
   ]
  },
  {
   "cell_type": "code",
   "execution_count": null,
   "metadata": {},
   "outputs": [],
   "source": [
    "import numpy as np\n",
    "from scipy import interpolate\n",
    "import matplotlib.pyplot as plt\n",
    "\n",
    "x = np.linspace(0, 5, 50)\n",
    "y = np.cos(x ** 2 / 3 + 4)\n",
    "\n",
    "plt.plot(x, y, 'r-.')\n",
    "\n"
   ]
  },
  {
   "cell_type": "code",
   "execution_count": null,
   "metadata": {},
   "outputs": [],
   "source": [
    "# lets do the interpolation\n",
    "from scipy.interpolate import interp1d\n",
    "\n",
    "f = interp1d(x,y)\n",
    "xnew = np.linspace(0, 5, 50)\n",
    "\n",
    "plt.plot(x, y, 'o', xnew, f(xnew), '-')\n",
    "plt.scatter(4.7, f(4.7), s=150, c='red', marker='o')\n",
    "f(4.7)"
   ]
  },
  {
   "cell_type": "markdown",
   "metadata": {},
   "source": [
    "---\n",
    "## Matplotlib\n",
    "\n",
    "Visulization is necessery especially when we are working with data series. **Matplotlib** is a flexible data visulization library of Python. \n",
    "\n",
    "If you would like to install Matplotlib, easiest way is to use \"pip\" command;\n",
    "\n",
    "**_pip install matplotlib_**"
   ]
  },
  {
   "cell_type": "code",
   "execution_count": null,
   "metadata": {},
   "outputs": [],
   "source": [
    "import matplotlib.pyplot as plt\n",
    "\n",
    "x = [1,2,3,4,5,6,7,8,9]\n",
    "y = [3,5,7,2,4,8,1,6,9]\n",
    "\n",
    "plt.plot(x, 'g*', linewidth=2, label='x values')\n",
    "plt.plot(y, 'b--', linewidth=1, label='y values')\n",
    "plt.xlabel('numbers')\n",
    "plt.ylabel('more numbers')\n",
    "plt.legend()\n",
    "plt.show()"
   ]
  },
  {
   "cell_type": "markdown",
   "metadata": {},
   "source": [
    "---\n",
    "## BOKEH - Interactive Data Visualization"
   ]
  },
  {
   "cell_type": "code",
   "execution_count": null,
   "metadata": {},
   "outputs": [],
   "source": [
    "# Start with uploading bokeh to your system\n",
    "\n",
    "# !pip install bokeh"
   ]
  },
  {
   "cell_type": "code",
   "execution_count": null,
   "metadata": {},
   "outputs": [],
   "source": [
    "# Import necessery libraries for BOKEH\n",
    "\n",
    "from bokeh.io import output_notebook, show\n",
    "from bokeh.plotting import figure "
   ]
  },
  {
   "cell_type": "code",
   "execution_count": null,
   "metadata": {},
   "outputs": [],
   "source": [
    "import numpy as np\n",
    "import pandas as pd"
   ]
  },
  {
   "cell_type": "code",
   "execution_count": null,
   "metadata": {},
   "outputs": [],
   "source": [
    "# Prepare dataset\n",
    "data = pd.DataFrame(np.random.randn(10, 2), index = None, columns=['Age', 'Gender'])\n",
    "data"
   ]
  },
  {
   "cell_type": "code",
   "execution_count": null,
   "metadata": {},
   "outputs": [],
   "source": [
    "# Set the output mode to notebook\n",
    "output_notebook() "
   ]
  },
  {
   "cell_type": "code",
   "execution_count": null,
   "metadata": {},
   "outputs": [],
   "source": [
    "# assamble the figure\n",
    "fig = figure(plot_width = 300, plot_height = 300, title='Scatter Plot', x_axis_label = 'X axis', y_axis_label = 'Y axis') "
   ]
  },
  {
   "cell_type": "code",
   "execution_count": null,
   "metadata": {},
   "outputs": [],
   "source": [
    "# plot the output\n",
    "show(fig)"
   ]
  },
  {
   "cell_type": "markdown",
   "metadata": {},
   "source": [
    "---\n",
    "## Map Plot with Boked\n",
    "\n",
    "**_Glyphs_** is a basic consept to  build blocks in Bokeh."
   ]
  },
  {
   "cell_type": "code",
   "execution_count": null,
   "metadata": {},
   "outputs": [],
   "source": [
    "# !pip install folium"
   ]
  },
  {
   "cell_type": "code",
   "execution_count": null,
   "metadata": {},
   "outputs": [],
   "source": [
    "# Plot map by using latitude and longitude\n",
    "global str\n",
    "\n",
    "import pandas as pd\n",
    "from bokeh.plotting import figure, show, output_notebook\n",
    "from bokeh.models import ColumnarDataSource\n",
    "\n",
    "#-----------------------------------------------\n",
    "#from bokeh.tile_providers import get_provider, CARTODBPOSITRON\n",
    "from bokeh.tile_providers import get_provider, Vendors\n",
    "\n",
    "data_df = pd.read_fwf(\"http://www.koeri.boun.edu.tr/sismo/liste.txt\",\n",
    "                      widths=[10, 10, 10, 10, 10,10 ,5,5,2000],\n",
    "                      names=[\"Date\",\"Time\",\"Latit(N)\",\"Long(E)\",\"Depth(km)\",\"MD\",\"ML\",\"Mw\",\" Region\"], \n",
    "                      skiprows=6, \n",
    "                      nrows= 50)\n",
    "\n",
    "data_df.drop([0] , inplace=True)\n",
    "#data_df.describe()\n",
    "data_df.head()\n",
    "#data_df"
   ]
  },
  {
   "cell_type": "code",
   "execution_count": null,
   "metadata": {},
   "outputs": [],
   "source": [
    "data_df.columns"
   ]
  },
  {
   "cell_type": "code",
   "execution_count": null,
   "metadata": {},
   "outputs": [],
   "source": [
    "#output_notebook()    # shows the map in the notebook environment\n",
    "\n",
    "lat = data_df['Latit(N)'].astype(float).tolist()\n",
    "lon = data_df['Long(E)'].astype(float).tolist()\n",
    "dep = data_df['Depth(km)'].astype(float).tolist()\n",
    "\n",
    "import folium\n",
    "\n",
    "map = folium.Map(location=[35.0000, 39.0000], zoom_start=4, tiles='cartodbpositron')\n",
    "#map = folium.Map(location=[35.0000, 39.0000], zoom_start=4, tiles='Stamen Terrain')\n",
    "\n",
    "\n",
    "for lat, lon, dep in zip(lat,lon,dep):\n",
    "    folium.CircleMarker([lat, lon],\n",
    "                        radius=5,\n",
    "                        color='red',\n",
    "                        fill_color='red',\n",
    "                        fill_opacity=0.05).add_to(map)\n",
    "map"
   ]
  }
 ],
 "metadata": {
  "kernelspec": {
   "display_name": "Python 3",
   "language": "python",
   "name": "python3"
  },
  "language_info": {
   "codemirror_mode": {
    "name": "ipython",
    "version": 3
   },
   "file_extension": ".py",
   "mimetype": "text/x-python",
   "name": "python",
   "nbconvert_exporter": "python",
   "pygments_lexer": "ipython3",
   "version": "3.8.7"
  }
 },
 "nbformat": 4,
 "nbformat_minor": 4
}
