{
 "cells": [
  {
   "cell_type": "markdown",
   "metadata": {},
   "source": [
    "<div style='background-image: \"intro_pic.png\" ; padding: 0px ; background-size: cover ; border-radius: 5px ; height: 250px'>\n",
    "    <div style=\"float: center ; margin: 50px ; padding: 30px ; background: rgba(255 , 255 , 255 , 0.7) ; width: 50% ; height: 150px\">\n",
    "        <div style=\"position: left ; top: 50% ; transform: translatey(-50%)\">\n",
    "            <div style=\"font-size: x-large ; font-weight: 600 ; color: rgba(0 , 0 ,10 , 0.6) ; line-height: 70%\">Department of Civil Engineering</div>\n",
    "            <div style=\"font-size: xx-large ; font-weight: 900 ; color: rgba(200 , 0 , 0 , 0.8) ; line-height: 200%\">EQE 582_ Introduction to SEISMOLOGY</div>\n",
    "            <div style=\"font-size: large ; padding-top: 10px ; color: rgba(0 , 0 , 0 , 0.7); line-height: 100%\">Python applications for Seismology</div>\n",
    "        </div>\n",
    "         <div style=\"font-size: xx-large ; font-weight: 1000 ; color: rgba(0 , 128, 128 , 0.9) ; line-height: 200%\">2nd Assignment : Ground Motion Signal Processing </div>\n",
    "    </div>\n",
    "</div>\n",
    "\n",
    "---"
   ]
  },
  {
   "cell_type": "markdown",
   "metadata": {},
   "source": [
    "Due date : May 19, 2020 Wednesday 23:59 \n",
    "\n",
    "Visit [Engineering Strong Motion Database](https://esm-db.eu/#/home) web page create and account if you do not have already than login. Click on the **_Waveforms_** and download an Acceleration time series data in ASCII format. You are free to select your data as long as it is Processed data type (in order to skip Baseline correction calculation). \n",
    "\n",
    "Write your own python code to calculate Response Spectra and Intensity Measurements.\n",
    "\n",
    "Follow the steps below;\n",
    "\n",
    "    1. Read and plot your acceleration data as 3 component time series (NE,EW,Z)\n",
    "    2. Convert your North component acceleration data to velocity and displacement time series and plot them all.\n",
    "    3. Calculate PGA, PGV, PGD\n",
    "    4. Calculate Braketed Duration\n",
    "    5. Calculate Arias Intensity\n",
    "    6. Plot Response Spectra\n",
    "    \n",
    "***You are free to use specialized python toolkit or packages and implement them to your own code, such as: [eqsig](https://eqsig.readthedocs.io/en/latest/eqsig.html#loading-and-saving-functions), [pyrotd](https://pypi.org/project/pyrotd/), [gmpe-smtk](https://github.com/GEMScienceTools/gmpe-smtk) etc.\n",
    "\n",
    "***ATTENTION : Please do not forget to add an introduction paragraph that gives brief information about your code and also, add your own comments next to the each line of your code. \n",
    "\n",
    "PS : Do upload your assignments as \".ipynb\" files to EQE582 Lecture MSTeams Class.\n"
   ]
  },
  {
   "cell_type": "code",
   "execution_count": null,
   "metadata": {},
   "outputs": [],
   "source": []
  }
 ],
 "metadata": {
  "kernelspec": {
   "display_name": "Python 3",
   "language": "python",
   "name": "python3"
  },
  "language_info": {
   "codemirror_mode": {
    "name": "ipython",
    "version": 3
   },
   "file_extension": ".py",
   "mimetype": "text/x-python",
   "name": "python",
   "nbconvert_exporter": "python",
   "pygments_lexer": "ipython3",
   "version": "3.8.7"
  }
 },
 "nbformat": 4,
 "nbformat_minor": 4
}
