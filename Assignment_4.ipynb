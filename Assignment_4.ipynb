{
 "cells": [
  {
   "cell_type": "markdown",
   "metadata": {},
   "source": [
    "<img src=\"./images/GTU_LOGO_1200X768_JPG_EN_Small.jpg\" style=\"width:10%\"></img>\n",
    "\n",
    "<div style='background-image: \"intro_pic.png\" ; padding: 0px ; background-size: cover ; border-radius: 5px ; height: 250px'>\n",
    "    <div style=\"float: center ; margin: 50px ; padding: 30px ; background: rgba(255 , 255 , 255 , 0.7) ; width: 50% ; height: 150px\">\n",
    "        <div style=\"position: left ; top: 50% ; transform: translatey(-50%)\">\n",
    "            <div style=\"font-size: x-large ; font-weight: 600 ; color: rgba(0 , 0 ,10 , 0.6) ; line-height: 70%\">Department of Civil Engineering</div>\n",
    "            <div style=\"font-size: xx-large ; font-weight: 900 ; color: rgba(200 , 0 , 0 , 0.8) ; line-height: 200%\">EQE 582_ Introduction to SEISMOLOGY</div>\n",
    "            <div style=\"font-size: large ; padding-top: 10px ; color: rgba(0 , 0 , 0 , 0.7); line-height: 100%\">Python applications for Seismology</div>\n",
    "        </div>\n",
    "         <div style=\"font-size: xx-large ; font-weight: 1000 ; color: rgba(0 , 128, 128 , 0.9) ; line-height: 300%\">Structural Health Monitoring Assignment #4 </div>\n",
    "    </div>\n",
    "</div>\n",
    "\n",
    "---\n"
   ]
  },
  {
   "cell_type": "markdown",
   "metadata": {},
   "source": [
    "### Due date : Jan 06, 2021 Wednesday 23:59 \n",
    "\n",
    "Visit [Strong Motion Center](https://www.strongmotioncenter.org/) web page, search for **_US Structural and Ground Motion Data_** for an earthquake recorded in high rise building which is instrumented at different levels.\n",
    "\n",
    "1. Download Acceleration waveform data in Processed format _(Acceleration, velocity, displacement and spectra files, as processed and reviewed by CGS/CSMIP or USGS/NSMP the traditional Vol2 and Vol3 files, used for most applications)_. [FORMAT info & converter](https://www.strongmotioncenter.org/COSMOSConverter.htm)\n",
    "2. This format is in ASCII, so you may use Pandas DataFrame to read this format. \n",
    "3. Plot the acceleration trace as time series. \n",
    "4. Compute Fourier Transform and read the fundamental frequency for each trace you have plotted.\n",
    "5. Give a brief information about the structure you analysed and about your observations.\n",
    "\n",
    "\n",
    "* You are free to select structure that you interest, if you need suggestion related links are listed below.\n",
    "\n",
    "_[CESMD Information for Strong-Motion Station San Francisco - 47-story Office Bldg CGS - CSMIP Station 58532](https://www.strongmotioncenter.org/cgi-bin/CESMD/stationhtml.pl?stationID=CE58532&network=CGS)_\n",
    "\n",
    "_[Earthquakes recorded by Station 58532](https://www.strongmotioncenter.org/cgi-bin/CESMD/StaEvent.pl?stacode=CE58532)_\n",
    "\n",
    "_[International Strong Motion Databases](https://esm.mi.ingv.it/static_stage/doc/strong_motion_databases_ESM.pdf)_\n",
    "\n",
    "---\n",
    "\n",
    "*PS1 : Do not forget to upload your assignments as \".ipynb\" files to Ders Kutusu.\n",
    "\n",
    "<img src=\"./images/derskutusu.png\" style=\"width:20%\"></img>\n"
   ]
  },
  {
   "cell_type": "code",
   "execution_count": null,
   "metadata": {},
   "outputs": [],
   "source": []
  }
 ],
 "metadata": {
  "kernelspec": {
   "display_name": "Python 3",
   "language": "python",
   "name": "python3"
  },
  "language_info": {
   "codemirror_mode": {
    "name": "ipython",
    "version": 3
   },
   "file_extension": ".py",
   "mimetype": "text/x-python",
   "name": "python",
   "nbconvert_exporter": "python",
   "pygments_lexer": "ipython3",
   "version": "3.8.6"
  }
 },
 "nbformat": 4,
 "nbformat_minor": 4
}
