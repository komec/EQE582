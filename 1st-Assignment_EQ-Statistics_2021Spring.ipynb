{
 "cells": [
  {
   "cell_type": "markdown",
   "metadata": {},
   "source": [
    "<div style='background-image: \"intro_pic.png\" ; padding: 0px ; background-size: cover ; border-radius: 5px ; height: 250px'>\n",
    "    <div style=\"float: center ; margin: 50px ; padding: 30px ; background: rgba(255 , 255 , 255 , 0.7) ; width: 50% ; height: 150px\">\n",
    "        <div style=\"position: left ; top: 50% ; transform: translatey(-50%)\">\n",
    "            <div style=\"font-size: x-large ; font-weight: 600 ; color: rgba(0 , 0 ,10 , 0.6) ; line-height: 70%\">Department of Civil Engineering</div>\n",
    "            <div style=\"font-size: xx-large ; font-weight: 900 ; color: rgba(200 , 0 , 0 , 0.8) ; line-height: 200%\">EQE 582_ Introduction to SEISMOLOGY</div>\n",
    "            <div style=\"font-size: large ; padding-top: 10px ; color: rgba(0 , 0 , 0 , 0.7); line-height: 100%\">Python applications for Seismology</div>\n",
    "        </div>\n",
    "         <div style=\"font-size: xx-large ; font-weight: 1000 ; color: rgba(0 , 128, 128 , 0.9) ; line-height: 200%\">1st-Assignment_EQ-Statistics_2021Spring </div>\n",
    "    </div>\n",
    "</div>\n",
    "\n",
    "---"
   ]
  },
  {
   "cell_type": "markdown",
   "metadata": {},
   "source": [
    "Due date : Apr 5, 2020 Wednesday 23:59 \n",
    "\n",
    "Visit [IRIS Earthquake Browser](http://ds.iris.edu/ieb/index.html?format=text&nodata=404&starttime=1970-01-01&endtime=2025-01-01&orderby=mag-desc&src=usgs&limit=1000&maxlat=89.37&minlat=-89.37&maxlon=180.00&minlon=-180.00&zm=1&mt=ter) web page, select **_a region_** listed in the menu at righthandside and search for the earthquakes with smallest-to-largest **_(M>0.0)_** from the catalog. \n",
    "\n",
    "Download the list of earthquakes as \"xls\" format. You may read it at \"xls\" or \"csv\".   \n",
    "\n",
    "Read the columns of your catalog, classify them belongs to \"Magnitude\" and draw histogram plot.\n",
    "\n",
    "Calculate PDF(Probability Density Function) and CDF(Cumulative Distribution Function) values and plot them on same graph. Calculate the probability of occurrence of a magnitude 5 earthquake. (Probability = 1 - CDF)\n",
    "\n",
    "***ATTENTION : Please do not forget to add an introduction paragraph that gives brief information about your code and also, add your own comments next to the each line of your code. \n",
    "\n",
    "PS : Please upload your assignments as \".ipynb\" files to EQE582 Lecture MSTeams Class.\n",
    "\n",
    "<img src=\"images/derskutusu.png\" style=\"width:20%\"></img>\n"
   ]
  }
 ],
 "metadata": {
  "kernelspec": {
   "display_name": "Python 3",
   "language": "python",
   "name": "python3"
  },
  "language_info": {
   "codemirror_mode": {
    "name": "ipython",
    "version": 3
   },
   "file_extension": ".py",
   "mimetype": "text/x-python",
   "name": "python",
   "nbconvert_exporter": "python",
   "pygments_lexer": "ipython3",
   "version": "3.8.7"
  }
 },
 "nbformat": 4,
 "nbformat_minor": 4
}
